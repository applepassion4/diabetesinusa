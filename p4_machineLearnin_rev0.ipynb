{
 "cells": [
  {
   "cell_type": "code",
   "execution_count": 71,
   "id": "b4d4a192",
   "metadata": {},
   "outputs": [],
   "source": [
    "import numpy as np\n",
    "import pandas as pd\n",
    "from pathlib import Path\n",
    "import matplotlib.pyplot as plt\n",
    "from sklearn.ensemble import RandomForestClassifier\n",
    "from sklearn.linear_model import LogisticRegression\n",
    "from sklearn.model_selection import train_test_split\n",
    "from sklearn.preprocessing import StandardScaler\n",
    "from sklearn import svm\n",
    "from sklearn.metrics import accuracy_score"
   ]
  },
  {
   "cell_type": "code",
   "execution_count": 79,
   "id": "58a247c5",
   "metadata": {},
   "outputs": [
    {
     "data": {
      "text/html": [
       "<div>\n",
       "<style scoped>\n",
       "    .dataframe tbody tr th:only-of-type {\n",
       "        vertical-align: middle;\n",
       "    }\n",
       "\n",
       "    .dataframe tbody tr th {\n",
       "        vertical-align: top;\n",
       "    }\n",
       "\n",
       "    .dataframe thead th {\n",
       "        text-align: right;\n",
       "    }\n",
       "</style>\n",
       "<table border=\"1\" class=\"dataframe\">\n",
       "  <thead>\n",
       "    <tr style=\"text-align: right;\">\n",
       "      <th></th>\n",
       "      <th>Pregnancies</th>\n",
       "      <th>Glucose</th>\n",
       "      <th>BloodPressure</th>\n",
       "      <th>SkinThickness</th>\n",
       "      <th>Insulin</th>\n",
       "      <th>BMI</th>\n",
       "      <th>DiabetesPedigreeFunction</th>\n",
       "      <th>Age</th>\n",
       "      <th>Outcome</th>\n",
       "    </tr>\n",
       "  </thead>\n",
       "  <tbody>\n",
       "    <tr>\n",
       "      <th>0</th>\n",
       "      <td>2</td>\n",
       "      <td>138</td>\n",
       "      <td>62</td>\n",
       "      <td>35</td>\n",
       "      <td>0</td>\n",
       "      <td>33.6</td>\n",
       "      <td>0.127</td>\n",
       "      <td>47</td>\n",
       "      <td>1</td>\n",
       "    </tr>\n",
       "    <tr>\n",
       "      <th>1</th>\n",
       "      <td>0</td>\n",
       "      <td>84</td>\n",
       "      <td>82</td>\n",
       "      <td>31</td>\n",
       "      <td>125</td>\n",
       "      <td>38.2</td>\n",
       "      <td>0.233</td>\n",
       "      <td>23</td>\n",
       "      <td>0</td>\n",
       "    </tr>\n",
       "    <tr>\n",
       "      <th>3</th>\n",
       "      <td>0</td>\n",
       "      <td>135</td>\n",
       "      <td>68</td>\n",
       "      <td>42</td>\n",
       "      <td>250</td>\n",
       "      <td>42.3</td>\n",
       "      <td>0.365</td>\n",
       "      <td>24</td>\n",
       "      <td>1</td>\n",
       "    </tr>\n",
       "    <tr>\n",
       "      <th>4</th>\n",
       "      <td>1</td>\n",
       "      <td>139</td>\n",
       "      <td>62</td>\n",
       "      <td>41</td>\n",
       "      <td>480</td>\n",
       "      <td>40.7</td>\n",
       "      <td>0.536</td>\n",
       "      <td>21</td>\n",
       "      <td>0</td>\n",
       "    </tr>\n",
       "    <tr>\n",
       "      <th>5</th>\n",
       "      <td>0</td>\n",
       "      <td>173</td>\n",
       "      <td>78</td>\n",
       "      <td>32</td>\n",
       "      <td>265</td>\n",
       "      <td>46.5</td>\n",
       "      <td>1.159</td>\n",
       "      <td>58</td>\n",
       "      <td>0</td>\n",
       "    </tr>\n",
       "    <tr>\n",
       "      <th>...</th>\n",
       "      <td>...</td>\n",
       "      <td>...</td>\n",
       "      <td>...</td>\n",
       "      <td>...</td>\n",
       "      <td>...</td>\n",
       "      <td>...</td>\n",
       "      <td>...</td>\n",
       "      <td>...</td>\n",
       "      <td>...</td>\n",
       "    </tr>\n",
       "    <tr>\n",
       "      <th>761</th>\n",
       "      <td>9</td>\n",
       "      <td>170</td>\n",
       "      <td>74</td>\n",
       "      <td>31</td>\n",
       "      <td>0</td>\n",
       "      <td>44.0</td>\n",
       "      <td>0.403</td>\n",
       "      <td>43</td>\n",
       "      <td>1</td>\n",
       "    </tr>\n",
       "    <tr>\n",
       "      <th>763</th>\n",
       "      <td>10</td>\n",
       "      <td>101</td>\n",
       "      <td>76</td>\n",
       "      <td>48</td>\n",
       "      <td>180</td>\n",
       "      <td>32.9</td>\n",
       "      <td>0.171</td>\n",
       "      <td>63</td>\n",
       "      <td>0</td>\n",
       "    </tr>\n",
       "    <tr>\n",
       "      <th>764</th>\n",
       "      <td>2</td>\n",
       "      <td>122</td>\n",
       "      <td>70</td>\n",
       "      <td>27</td>\n",
       "      <td>0</td>\n",
       "      <td>36.8</td>\n",
       "      <td>0.340</td>\n",
       "      <td>27</td>\n",
       "      <td>0</td>\n",
       "    </tr>\n",
       "    <tr>\n",
       "      <th>765</th>\n",
       "      <td>5</td>\n",
       "      <td>121</td>\n",
       "      <td>72</td>\n",
       "      <td>23</td>\n",
       "      <td>112</td>\n",
       "      <td>26.2</td>\n",
       "      <td>0.245</td>\n",
       "      <td>30</td>\n",
       "      <td>0</td>\n",
       "    </tr>\n",
       "    <tr>\n",
       "      <th>767</th>\n",
       "      <td>1</td>\n",
       "      <td>93</td>\n",
       "      <td>70</td>\n",
       "      <td>31</td>\n",
       "      <td>0</td>\n",
       "      <td>30.4</td>\n",
       "      <td>0.315</td>\n",
       "      <td>23</td>\n",
       "      <td>0</td>\n",
       "    </tr>\n",
       "  </tbody>\n",
       "</table>\n",
       "<p>1932 rows × 9 columns</p>\n",
       "</div>"
      ],
      "text/plain": [
       "     Pregnancies  Glucose  BloodPressure  SkinThickness  Insulin   BMI  \\\n",
       "0              2      138             62             35        0  33.6   \n",
       "1              0       84             82             31      125  38.2   \n",
       "3              0      135             68             42      250  42.3   \n",
       "4              1      139             62             41      480  40.7   \n",
       "5              0      173             78             32      265  46.5   \n",
       "..           ...      ...            ...            ...      ...   ...   \n",
       "761            9      170             74             31        0  44.0   \n",
       "763           10      101             76             48      180  32.9   \n",
       "764            2      122             70             27        0  36.8   \n",
       "765            5      121             72             23      112  26.2   \n",
       "767            1       93             70             31        0  30.4   \n",
       "\n",
       "     DiabetesPedigreeFunction  Age  Outcome  \n",
       "0                       0.127   47        1  \n",
       "1                       0.233   23        0  \n",
       "3                       0.365   24        1  \n",
       "4                       0.536   21        0  \n",
       "5                       1.159   58        0  \n",
       "..                        ...  ...      ...  \n",
       "761                     0.403   43        1  \n",
       "763                     0.171   63        0  \n",
       "764                     0.340   27        0  \n",
       "765                     0.245   30        0  \n",
       "767                     0.315   23        0  \n",
       "\n",
       "[1932 rows x 9 columns]"
      ]
     },
     "execution_count": 79,
     "metadata": {},
     "output_type": "execute_result"
    }
   ],
   "source": [
    "diabetes_df = pd.read_csv(Path('diabetes-dataset.csv'))\n",
    "pimaData_df = pd.read_csv(Path('diabetes_PIMA_INDIANS.csv'))\n",
    "# plt.hist(diabetes_df[''])\n",
    "# diabetes_df\n",
    "diabetes_df = pd.DataFrame(diabetes_df)\n",
    "pimaData_df = pd.DataFrame(pimaData_df)\n",
    "merged_diabetes_df = pd.concat([diabetes_df, pimaData_df])\n",
    "merged_diabetes_df = merged_diabetes_df[merged_diabetes_df['BloodPressure'] != 0]\n",
    "merged_diabetes_df = merged_diabetes_df[merged_diabetes_df['Glucose'] != 0]\n",
    "merged_diabetes_df = merged_diabetes_df[merged_diabetes_df['BMI'] != 0]\n",
    "merged_diabetes_df = merged_diabetes_df[merged_diabetes_df['SkinThickness'] != 0]\n",
    "\n",
    "\n",
    "bp = merged_diabetes_df['BloodPressure']\n",
    "glucose = merged_diabetes_df['Glucose']\n",
    "bmi = merged_diabetes_df['BMI']\n",
    "age = merged_diabetes_df['Age']\n",
    "skin_thickness = merged_diabetes_df['SkinThickness']\n",
    "dpf = merged_diabetes_df['DiabetesPedigreeFunction']\n",
    "\n",
    "# merged_diabetes_df['ln_bp'] = np.log(bp)\n",
    "# merged_diabetes_df['ln_glucose'] = np.log(glucose)\n",
    "# merged_diabetes_df['ln_bmi'] = np.log(bmi)\n",
    "# merged_diabetes_df['ln_skin'] = np.log(skin_thickness)\n",
    "# merged_diabetes_df['ln_dpf'] = np.log(dpf)\n",
    "\n",
    "\n",
    "\n",
    "# plt.hist(merged_diabetes_df['ln_dpf'], bins='auto')\n",
    "# plt.show()\n",
    "# plt.hist(dpf, bins='auto')\n",
    "# plt.show()\n",
    "merged_diabetes_df\n"
   ]
  },
  {
   "cell_type": "code",
   "execution_count": 78,
   "id": "6aba7a1c",
   "metadata": {},
   "outputs": [
    {
     "data": {
      "text/plain": [
       "0.7961165048543689"
      ]
     },
     "execution_count": 78,
     "metadata": {},
     "output_type": "execute_result"
    }
   ],
   "source": [
    "merged_diabetes_df.groupby('Outcome').mean()\n",
    "X = merged_diabetes_df.drop(columns= 'Outcome', axis=1)\n",
    "y = merged_diabetes_df['Outcome']\n",
    "\n",
    "scaler = StandardScaler()\n",
    "scaler.fit(X)\n",
    "\n",
    "standardized_data = scaler.transform(X)\n",
    "\n",
    "X = standardized_data\n",
    "\n",
    "X_train, X_test, y_train, y_test = train_test_split(X,y, test_size=0.2, stratify=y, random_state=2)\n",
    "\n",
    "# print(X.shape, X_train.shape, X_test.shape)\n",
    "\n",
    "classifier = svm.SVC(kernel= 'linear')\n",
    "\n",
    "classifier.fit(X_train, y_train)\n",
    "X_train_perdict = classifier.predict(X_train)\n",
    "training_data_acc = accuracy_score(X_train_perdict , y_train)\n",
    "\n",
    "training_data_acc"
   ]
  },
  {
   "cell_type": "markdown",
   "id": "95caa58a",
   "metadata": {},
   "source": [
    "The Perdictive system\n"
   ]
  },
  {
   "cell_type": "code",
   "execution_count": 98,
   "id": "4496ca92",
   "metadata": {},
   "outputs": [
    {
     "name": "stdout",
     "output_type": "stream",
     "text": [
      "[[-0.44087931  0.54702359 -0.79016706  0.55211138 -0.96046238  0.07901693\n",
      "  -1.10933526  1.4588856 ]]\n",
      "[0]\n",
      "You do not have diabetes!\n"
     ]
    }
   ],
   "source": [
    "# Randomly selected data for 0 outcome (no diabetes)\n",
    "pregnancies = int(input('How many times have you been pregnant? '))\n",
    "glucose = int(input('Enter an input for Glucose: '))\n",
    "blood_pressure = int(input('Enter an input for Blood Presure: '))\n",
    "skin_thickness = int(input('Enter an input for skin thickness: '))\n",
    "insulin = int(input('Enter an input for Insulin: '))\n",
    "bmi = float(input('Enter your BMI: '))\n",
    "dpf = float(input('Enter your DPF: '))\n",
    "age = int(input('Enter your age: '))\n",
    "\n",
    "\n",
    "input_data = (pregnancies, glucose, blood_pressure, skin_thickness, insulin, bmi, dpf, age)\n",
    "input_data_np_array = np.asarray(input_data)\n",
    "\n",
    "#reshape data\n",
    "input_data_reshape = input_data_np_array.reshape(1, -1)\n",
    "\n",
    "#standardize input data \n",
    "std_data = scaler.transform(input_data_reshape)\n",
    "\n",
    "print(std_data)\n",
    "\n",
    "prediction = classifier.predict(std_data)\n",
    "print(prediction)\n",
    "\n",
    "if (prediction[0] == 0):\n",
    "    print('You do not have diabetes!')\n",
    "else:\n",
    "    print('You do have diabetes!')\n"
   ]
  },
  {
   "cell_type": "code",
   "execution_count": 56,
   "id": "f8d55263",
   "metadata": {},
   "outputs": [
    {
     "name": "stdout",
     "output_type": "stream",
     "text": [
      "[0.14690869 0.78777203 0.25026754 0.08121834 0.10741898]\n",
      "5.4345296045478\n"
     ]
    }
   ],
   "source": [
    "from sklearn import linear_model\n",
    "from sklearn.linear_model import LogisticRegression\n",
    "X = merged_diabetes_df[['ln_bp', 'ln_glucose', 'ln_bmi', 'ln_skin', 'ln_dpf' ]]\n",
    "y = merged_diabetes_df['Outcome']\n",
    "\n",
    "regr = linear_model.LinearRegression()\n",
    "regr.fit(X, y)\n",
    "print(regr.coef_)\n",
    "# fact_df = merged_diabetes_df.drop('Outcome', axis = 1)\n",
    "# outcome_df = merged_diabetes_df.Outcome\n",
    "\n",
    "# X = fact_df\n",
    "# y = outcome_df\n",
    "# X_train, X_test, y_train, y_test = train_test_split(X, y, random_state=18)\n",
    "\n",
    "# classifier = LogisticRegression()\n",
    "# classifier.fit(X_train, y_train)\n",
    "\n",
    "# train1 = classifier.score(X_train, y_train)\n",
    "# test1 = classifier.score(X_test, y_test)\n",
    "\n",
    "# print(f'training score = {train1}')\n",
    "# print(f'testing score = {test1}')\n",
    "Y = 4.127134*(0.14690869) + 4.927254*(0.78777203) + 3.514526*(0.25026754) + 3.555348*(0.08121834) - 2.063568*(0.10741898)\n",
    "print(Y)\n"
   ]
  },
  {
   "cell_type": "code",
   "execution_count": 4,
   "id": "73030b6a",
   "metadata": {},
   "outputs": [
    {
     "data": {
      "text/html": [
       "<div>\n",
       "<style scoped>\n",
       "    .dataframe tbody tr th:only-of-type {\n",
       "        vertical-align: middle;\n",
       "    }\n",
       "\n",
       "    .dataframe tbody tr th {\n",
       "        vertical-align: top;\n",
       "    }\n",
       "\n",
       "    .dataframe thead th {\n",
       "        text-align: right;\n",
       "    }\n",
       "</style>\n",
       "<table border=\"1\" class=\"dataframe\">\n",
       "  <thead>\n",
       "    <tr style=\"text-align: right;\">\n",
       "      <th></th>\n",
       "      <th>Pregnancies</th>\n",
       "      <th>Glucose</th>\n",
       "      <th>BloodPressure</th>\n",
       "      <th>SkinThickness</th>\n",
       "      <th>Insulin</th>\n",
       "      <th>BMI</th>\n",
       "      <th>DiabetesPedigreeFunction</th>\n",
       "      <th>Age</th>\n",
       "    </tr>\n",
       "  </thead>\n",
       "  <tbody>\n",
       "    <tr>\n",
       "      <th>0</th>\n",
       "      <td>2</td>\n",
       "      <td>138</td>\n",
       "      <td>62</td>\n",
       "      <td>35</td>\n",
       "      <td>0</td>\n",
       "      <td>33.6</td>\n",
       "      <td>0.127</td>\n",
       "      <td>47</td>\n",
       "    </tr>\n",
       "    <tr>\n",
       "      <th>1</th>\n",
       "      <td>0</td>\n",
       "      <td>84</td>\n",
       "      <td>82</td>\n",
       "      <td>31</td>\n",
       "      <td>125</td>\n",
       "      <td>38.2</td>\n",
       "      <td>0.233</td>\n",
       "      <td>23</td>\n",
       "    </tr>\n",
       "    <tr>\n",
       "      <th>2</th>\n",
       "      <td>0</td>\n",
       "      <td>145</td>\n",
       "      <td>0</td>\n",
       "      <td>0</td>\n",
       "      <td>0</td>\n",
       "      <td>44.2</td>\n",
       "      <td>0.630</td>\n",
       "      <td>31</td>\n",
       "    </tr>\n",
       "    <tr>\n",
       "      <th>3</th>\n",
       "      <td>0</td>\n",
       "      <td>135</td>\n",
       "      <td>68</td>\n",
       "      <td>42</td>\n",
       "      <td>250</td>\n",
       "      <td>42.3</td>\n",
       "      <td>0.365</td>\n",
       "      <td>24</td>\n",
       "    </tr>\n",
       "    <tr>\n",
       "      <th>4</th>\n",
       "      <td>1</td>\n",
       "      <td>139</td>\n",
       "      <td>62</td>\n",
       "      <td>41</td>\n",
       "      <td>480</td>\n",
       "      <td>40.7</td>\n",
       "      <td>0.536</td>\n",
       "      <td>21</td>\n",
       "    </tr>\n",
       "  </tbody>\n",
       "</table>\n",
       "</div>"
      ],
      "text/plain": [
       "   Pregnancies  Glucose  BloodPressure  SkinThickness  Insulin   BMI  \\\n",
       "0            2      138             62             35        0  33.6   \n",
       "1            0       84             82             31      125  38.2   \n",
       "2            0      145              0              0        0  44.2   \n",
       "3            0      135             68             42      250  42.3   \n",
       "4            1      139             62             41      480  40.7   \n",
       "\n",
       "   DiabetesPedigreeFunction  Age  \n",
       "0                     0.127   47  \n",
       "1                     0.233   23  \n",
       "2                     0.630   31  \n",
       "3                     0.365   24  \n",
       "4                     0.536   21  "
      ]
     },
     "execution_count": 4,
     "metadata": {},
     "output_type": "execute_result"
    }
   ],
   "source": [
    "factors_df = diabetes_df.drop('Outcome', axis = 1)\n",
    "#Ind_df = pd.get_dummies(Independent_df)\n",
    "factors_df.head()\n",
    "\n"
   ]
  },
  {
   "cell_type": "code",
   "execution_count": 5,
   "id": "b28432b5",
   "metadata": {},
   "outputs": [
    {
     "data": {
      "text/plain": [
       "0    1\n",
       "1    0\n",
       "2    1\n",
       "3    1\n",
       "4    0\n",
       "Name: Outcome, dtype: int64"
      ]
     },
     "execution_count": 5,
     "metadata": {},
     "output_type": "execute_result"
    }
   ],
   "source": [
    "diab_out_df = diabetes_df.Outcome\n",
    "diab_out_df.head()"
   ]
  },
  {
   "cell_type": "code",
   "execution_count": 6,
   "id": "7afa0d04",
   "metadata": {},
   "outputs": [],
   "source": [
    "# Split into train and test data:\n",
    "X = factors_df\n",
    "y = diab_out_df\n",
    "\n",
    "X_train, X_test, y_train, y_test = train_test_split(X, y, random_state=18)"
   ]
  },
  {
   "cell_type": "code",
   "execution_count": 7,
   "id": "af692bcc",
   "metadata": {},
   "outputs": [
    {
     "name": "stdout",
     "output_type": "stream",
     "text": [
      "Logistic Regression Training Data Score: 0.7926666666666666\n",
      "Logistic Regression Testing Data Score: 0.734\n"
     ]
    },
    {
     "name": "stderr",
     "output_type": "stream",
     "text": [
      "C:\\ProgramData\\Anaconda3\\lib\\site-packages\\sklearn\\linear_model\\_logistic.py:763: ConvergenceWarning: lbfgs failed to converge (status=1):\n",
      "STOP: TOTAL NO. of ITERATIONS REACHED LIMIT.\n",
      "\n",
      "Increase the number of iterations (max_iter) or scale the data as shown in:\n",
      "    https://scikit-learn.org/stable/modules/preprocessing.html\n",
      "Please also refer to the documentation for alternative solver options:\n",
      "    https://scikit-learn.org/stable/modules/linear_model.html#logistic-regression\n",
      "  n_iter_i = _check_optimize_result(\n"
     ]
    }
   ],
   "source": [
    "from sklearn.linear_model import LogisticRegression\n",
    "classifier = LogisticRegression()\n",
    "classifier2 = LogisticRegression()\n",
    "classifier.fit(X_train, y_train)\n",
    "print(f\"Logistic Regression Training Data Score: {classifier.score(X_train, y_train)}\")\n",
    "print(f\"Logistic Regression Testing Data Score: {classifier.score(X_test, y_test)}\")"
   ]
  },
  {
   "cell_type": "code",
   "execution_count": 8,
   "id": "ab94e224",
   "metadata": {},
   "outputs": [
    {
     "name": "stdout",
     "output_type": "stream",
     "text": [
      "Random Forest Training Score: 1.0\n",
      "Random Forest Testing Score: 0.974\n"
     ]
    }
   ],
   "source": [
    "from sklearn.ensemble import RandomForestClassifier\n",
    "clf = RandomForestClassifier(random_state=18, n_estimators=500).fit(X_train, y_train)\n",
    "print(f'Random Forest Training Score: {clf.score(X_train, y_train)}')\n",
    "print(f'Random Forest Testing Score: {clf.score(X_test, y_test)}')"
   ]
  },
  {
   "cell_type": "code",
   "execution_count": 9,
   "id": "b20f950d",
   "metadata": {},
   "outputs": [],
   "source": [
    "from sklearn.preprocessing import StandardScaler\n",
    "scaler = StandardScaler().fit(X_train)\n",
    "X_train_scaled = scaler.transform(X_train)\n",
    "X_test_scaled = scaler.transform(X_test)"
   ]
  },
  {
   "cell_type": "code",
   "execution_count": 10,
   "id": "40010e52",
   "metadata": {},
   "outputs": [
    {
     "name": "stdout",
     "output_type": "stream",
     "text": [
      "Logistic Regression Scaled Training Data Score: 0.7913333333333333\n",
      "Logistic Regression Scaled Testing Data Score: 0.736\n"
     ]
    }
   ],
   "source": [
    "classifier2.fit(X_train_scaled, y_train)\n",
    "print(f\"Logistic Regression Scaled Training Data Score: {classifier2.score(X_train_scaled, y_train)}\")\n",
    "print(f\"Logistic Regression Scaled Testing Data Score: {classifier2.score(X_test_scaled, y_test)}\")"
   ]
  },
  {
   "cell_type": "code",
   "execution_count": 11,
   "id": "f5f5ab08",
   "metadata": {},
   "outputs": [
    {
     "name": "stdout",
     "output_type": "stream",
     "text": [
      "Random Forest Scaled Training Score: 1.0\n",
      "Random Forest Scaled Testing Score: 0.974\n"
     ]
    }
   ],
   "source": [
    "clf2 = RandomForestClassifier(random_state=18, n_estimators=500).fit(X_train_scaled, y_train)\n",
    "print(f'Random Forest Scaled Training Score: {clf2.score(X_train_scaled, y_train)}')\n",
    "print(f'Random Forest Scaled Testing Score: {clf2.score(X_test_scaled, y_test)}')"
   ]
  },
  {
   "cell_type": "markdown",
   "id": "4fd83e45",
   "metadata": {},
   "source": [
    "###  No Difference between scaled and unscaled data!"
   ]
  },
  {
   "cell_type": "code",
   "execution_count": null,
   "id": "85132ec9",
   "metadata": {},
   "outputs": [],
   "source": []
  }
 ],
 "metadata": {
  "interpreter": {
   "hash": "b3ba2566441a7c06988d0923437866b63cedc61552a5af99d1f4fb67d367b25f"
  },
  "kernelspec": {
   "display_name": "Python 3.8.8 64-bit ('base': conda)",
   "name": "python3"
  },
  "language_info": {
   "codemirror_mode": {
    "name": "ipython",
    "version": 3
   },
   "file_extension": ".py",
   "mimetype": "text/x-python",
   "name": "python",
   "nbconvert_exporter": "python",
   "pygments_lexer": "ipython3",
   "version": "3.8.8"
  }
 },
 "nbformat": 4,
 "nbformat_minor": 5
}
